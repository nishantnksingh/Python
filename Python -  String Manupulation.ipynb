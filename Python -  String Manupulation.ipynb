{
 "cells": [
  {
   "cell_type": "markdown",
   "metadata": {},
   "source": [
    "# Python : String Manupulation "
   ]
  },
  {
   "cell_type": "code",
   "execution_count": null,
   "metadata": {},
   "outputs": [],
   "source": [
    "msg = \"Hello all!\"\n",
    "\n",
    "print(msg)"
   ]
  },
  {
   "cell_type": "code",
   "execution_count": null,
   "metadata": {},
   "outputs": [],
   "source": [
    "name = \"nikhat\"\n",
    "print(name)"
   ]
  },
  {
   "cell_type": "markdown",
   "metadata": {},
   "source": []
  },
  {
   "cell_type": "markdown",
   "metadata": {},
   "source": [
    "### 1. Single Quotes inside Double Quotes"
   ]
  },
  {
   "cell_type": "code",
   "execution_count": null,
   "metadata": {},
   "outputs": [],
   "source": []
  },
  {
   "cell_type": "code",
   "execution_count": null,
   "metadata": {
    "scrolled": true
   },
   "outputs": [],
   "source": [
    "msg = 'It\\'s my notebook'\n",
    "\n",
    "print(msg)"
   ]
  },
  {
   "cell_type": "code",
   "execution_count": null,
   "metadata": {},
   "outputs": [],
   "source": [
    "msg = 'Its\\nmy\\\\nnotebook'\n",
    "print(msg)"
   ]
  },
  {
   "cell_type": "markdown",
   "metadata": {},
   "source": [
    "### 2. Escape Characters\n",
    "\n",
    "#### Escape character   \n",
    "``\\'``                 Single quote \n",
    "\n",
    "``\\\"``                 Double quote \n",
    "\n",
    "``\\t``                 Tab \n",
    "\n",
    "``\\n``                 Newline (line break) \n",
    "\n",
    "``\\\\``                 Backslash\n"
   ]
  },
  {
   "cell_type": "code",
   "execution_count": null,
   "metadata": {},
   "outputs": [],
   "source": [
    "msg = 'It\\'s my notebook'\n",
    "\n",
    "print(msg)"
   ]
  },
  {
   "cell_type": "code",
   "execution_count": null,
   "metadata": {},
   "outputs": [],
   "source": [
    "msg = 'It\\'s my notebook\\nPlease dont touch it'\n",
    "\n",
    "print(msg)"
   ]
  },
  {
   "cell_type": "code",
   "execution_count": null,
   "metadata": {},
   "outputs": [],
   "source": [
    "msg = \"My name is \"         # Contatenation\n",
    "name = \"shreyas \\t\"\n",
    "\n",
    "print((msg + name)*2)"
   ]
  },
  {
   "cell_type": "code",
   "execution_count": null,
   "metadata": {},
   "outputs": [],
   "source": [
    "msg=\"my name is sahana\\t\"\n",
    "print(msg*2)"
   ]
  },
  {
   "cell_type": "markdown",
   "metadata": {},
   "source": [
    "### 3.Indexing and Slicing Strings"
   ]
  },
  {
   "cell_type": "code",
   "execution_count": null,
   "metadata": {},
   "outputs": [],
   "source": [
    "msg = \"Hello All, Good morning!\"\n",
    "\n",
    "letter = msg[7]\n",
    "\n",
    "print(letter)"
   ]
  },
  {
   "cell_type": "code",
   "execution_count": null,
   "metadata": {},
   "outputs": [],
   "source": [
    "msg[:7]"
   ]
  },
  {
   "cell_type": "code",
   "execution_count": null,
   "metadata": {
    "scrolled": true
   },
   "outputs": [],
   "source": [
    "msg[6:9]"
   ]
  },
  {
   "cell_type": "code",
   "execution_count": null,
   "metadata": {},
   "outputs": [],
   "source": [
    "msg[11:]\n"
   ]
  },
  {
   "cell_type": "code",
   "execution_count": null,
   "metadata": {
    "scrolled": true
   },
   "outputs": [],
   "source": [
    "msg[-3]"
   ]
  },
  {
   "cell_type": "code",
   "execution_count": null,
   "metadata": {},
   "outputs": [],
   "source": [
    "msg[-8:-2]"
   ]
  },
  {
   "cell_type": "code",
   "execution_count": null,
   "metadata": {},
   "outputs": [],
   "source": [
    "msg[:-2]"
   ]
  },
  {
   "cell_type": "code",
   "execution_count": null,
   "metadata": {},
   "outputs": [],
   "source": [
    "topic =\"Machine Learning\""
   ]
  },
  {
   "cell_type": "code",
   "execution_count": null,
   "metadata": {},
   "outputs": [],
   "source": [
    "topic[8:16]"
   ]
  },
  {
   "cell_type": "markdown",
   "metadata": {},
   "source": [
    "### 4. String Addition or Concatenation"
   ]
  },
  {
   "cell_type": "code",
   "execution_count": null,
   "metadata": {
    "scrolled": true
   },
   "outputs": [],
   "source": [
    "first = 'rove'\n",
    "last = 'LaBs'\n",
    "\n",
   
    "print(first + ' ' + last)\n",
    "print(first.title() + ' ' + last.title)\n"
   ]
  },
  {
   "cell_type": "markdown",
   "metadata": {},
   "source": [
    "### 5. String Formatting"
   ]
  },
  {
   "cell_type": "code",
   "execution_count": null,
   "metadata": {
    "scrolled": true
   },
   "outputs": [],
   "source": [
    "my_name = 'Jhon Snow'     \n",
    "my_age = 35      \n",
    "my_height = 74 # inches     \n",
    "my_weight = 180.6 # lbs     \n",
    "my_eyes = 'Blue'     \n",
    "my_teeth = 'White'     \n",
    "my_hair = 'Brown'     \n",
    "\n",
    "print(\"Let's talk about %s.\" % my_name)    \n",
    "print(\"He's %d inches tall.\" % my_height)    \n",
    "print(\"He's %f pounds heavy.\" % my_weight)\n",
    "print(\"He's %.2f pounds heavy.\" % my_weight)    \n",
    "print(\"He's BMI is %.2f\" % my_weight*my_height^2/703)    \n",
    "print(\"Actually that's not too heavy.\")    \n",
    "print(\"He's got %s eyes and %s hair.\" % (my_eyes, my_hair))    \n",
    "print(\"His teeth are usually %s depending on the coffee.\" % my_teeth)    \n",
    "\n",
    " \n",
    "print(\"If I add %d, %d, and %d I get %d.\" % (my_age, my_height, my_weight, my_age + my_height + my_weight))"
   ]
  },
  {
   "cell_type": "code",
   "execution_count": null,
   "metadata": {},
   "outputs": [],
   "source": [
    "print(\"He's pounds heavy and {1:d} inches{0:.2f}  tall.\".format(my_weight, my_height))"
   ]
  },
  {
   "cell_type": "code",
   "execution_count": 49,
   "metadata": {},
   "outputs": [],
   "source": [
    "my_name = 'Jhon Snow'     \n",
    "my_age = 35      \n",
    "my_height = 74 # inches     \n",
    "my_weight = 180.6 # lbs     \n",
    "my_eyes = 'Blue'     \n",
    "my_teeth = 'White'     \n",
    "my_hair = 'Brown'    "
   ]
  },
  {
   "cell_type": "code",
   "execution_count": 50,
   "metadata": {
    "scrolled": true
   },
   "outputs": [
    {
     "name": "stdout",
     "output_type": "stream",
     "text": [
      "Let's 180.6 talk about. \n"
     ]
    }
   ],
   "source": [
    "print(\"Let's %s talk about. \" % my_weight)  "
   ]
  },
  {
   "cell_type": "code",
   "execution_count": 51,
   "metadata": {
    "scrolled": true
   },
   "outputs": [
    {
     "name": "stdout",
     "output_type": "stream",
     "text": [
      "He's got Brown eyes and Blue hair.\n"
     ]
    }
   ],
   "source": [
    "print(\"He's got %s eyes and %s hair.\" % (my_hair,my_eyes)  )"
   ]
  },
  {
   "cell_type": "code",
   "execution_count": 54,
   "metadata": {},
   "outputs": [
    {
     "data": {
      "text/plain": [
       "'defegu sdf gjk'"
      ]
     },
     "execution_count": 54,
     "metadata": {},
     "output_type": "execute_result"
    }
   ],
   "source": [
    "msg = \"abc sdf gjk\"\n",
    "\n",
    "msg.replace(\"abc\" , \"defegu\")"
   ]
  },
  {
   "cell_type": "code",
   "execution_count": null,
   "metadata": {},
   "outputs": [],
   "source": []
  }
 ],
 "metadata": {
  "kernelspec": {
   "display_name": "Python 3",
   "language": "python",
   "name": "python3"
  },
  "language_info": {
   "codemirror_mode": {
    "name": "ipython",
    "version": 3
   },
   "file_extension": ".py",
   "mimetype": "text/x-python",
   "name": "python",
   "nbconvert_exporter": "python",
   "pygments_lexer": "ipython3",
   "version": "3.7.1"
  }
 },
 "nbformat": 4,
 "nbformat_minor": 2
}
